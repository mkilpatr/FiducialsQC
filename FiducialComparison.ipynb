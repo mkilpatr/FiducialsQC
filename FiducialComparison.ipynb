{
 "cells": [
  {
   "cell_type": "code",
   "execution_count": 1,
   "id": "b131633c",
   "metadata": {},
   "outputs": [
    {
     "name": "stdout",
     "output_type": "stream",
     "text": [
      "/Users/Matthew/Documents/SchoolWork/physics/GradNotes/ParticlePhysics/PostdocResearch/HGC/EstToolsSUSY/FiducialQC\n"
     ]
    }
   ],
   "source": [
    "%load_ext autoreload\n",
    "import os\n",
    "workDir = os.getcwd()\n",
    "user = 'mkilpatr' #CERN user ID\n",
    "institution = 'UCSB' #UCSB\n",
    "print(workDir)"
   ]
  },
  {
   "cell_type": "code",
   "execution_count": 2,
   "id": "b7bc9a7b",
   "metadata": {},
   "outputs": [
    {
     "name": "stdout",
     "output_type": "stream",
     "text": [
      "FILEPATHS MAY BE WRONG!! CANNOT FIND /Users/Matthew/Documents/SchoolWork/physics/GradNotes/ParticlePhysics/PostdocResearch/HGC/EstToolsSUSY/FiducialQC/data/pcbfiducialtrialrun.xls\n"
     ]
    }
   ],
   "source": [
    "%run utils/GetExcel.ipynb\n",
    "\n",
    "#The sensor file can contain the fiducials of the sensor, but can also have the \n",
    "#component heights for sensor in location P1 or P2.\n",
    "#Methods can run either way! \n",
    "\n",
    "pcbfile = workDir + '/data/pcbfiducialtrialrun.xls'\n",
    "fiducialfile = workDir + '/data/GantryTrayFiducialData.xls'\n",
    "#sensorfile = workDir + '/data/moduleHeights.xls'\n",
    "sensorfile = workDir + '/data/P2_and_P2_XYZ_Feb_10.xls'\n",
    "\n",
    "sensor = GetExcel(sensorfile)\n",
    "sensor.read()\n",
    "#print(sensor.df.tail())\n",
    "\n",
    "fiducial = GetExcel(fiducialfile)\n",
    "fiducial.read()\n",
    "#print(fiducial.df.head())\n",
    "\n",
    "pcb = GetExcel(pcbfile)\n",
    "pcb.read()\n",
    "#print(pcb.df.head())"
   ]
  },
  {
   "cell_type": "code",
   "execution_count": 3,
   "id": "c93dd7a0",
   "metadata": {},
   "outputs": [],
   "source": [
    "%run utils/ReadDataframe.ipynb\n",
    "%autoreload 2\n",
    "\n",
    "if sensor.exists:\n",
    "    senDF = ReadDataframe(sensor.df, sensorfile)\n",
    "    senDF.readComponentFiducials()\n",
    "    senDF.readComponentHeights()\n",
    "\n",
    "if fiducial.exists:\n",
    "    fidDF = ReadDataframe(fiducial.df, fiducialfile)\n",
    "    fidDF.readTrayFiducials()\n",
    "\n",
    "if pcb.exists:\n",
    "    pcbDF = ReadDataframe(pcb.df, pcbfile)\n",
    "    pcbDF.readComponentFiducials()\n",
    "    pcbDF.readComponentHeights()"
   ]
  },
  {
   "cell_type": "code",
   "execution_count": 4,
   "id": "a31fbdbd",
   "metadata": {},
   "outputs": [
    {
     "name": "stdout",
     "output_type": "stream",
     "text": [
      "\u001b[30mThe module/component in P1 has completed QC!\n",
      "Rotation --> Left Fiducial: 90.627 degrees, Right Fiducial: 90.627 degrees\n",
      "The angle of the sensor in position P1 is \u001b[33mYELLOW\u001b[30m. \n",
      "Placement --> (x,y) = (0.114, 0.058) mm\n",
      "The placement of the sensor in position P1 is \u001b[31mRED\u001b[30m. \n",
      "Height --> 1.638 - (0.181) + (0.197) mm\n",
      "The mean heights of the module in position P1 are \u001b[32mGREEN\u001b[30m. \n",
      "The minimum difference in height of the module in position P1 is \u001b[31mRED\u001b[30m. \n",
      "The maximum difference in height of the module in position P1 is \u001b[31mRED\u001b[30m. \n",
      "\n",
      "The FINAL rating of the module in position P1 is \u001b[31mRED\u001b[30m.\n",
      "\n",
      "\u001b[30mThe module/component in P2 has completed QC!\n",
      "Rotation --> Left Fiducial: nan degrees, Right Fiducial: 89.731 degrees\n",
      "The angle of the sensor in position P2 is \u001b[32mGREEN\u001b[30m. \n",
      "Placement --> (x,y) = (nan, nan) mm\n",
      "Height --> 1.582 - (0.270) + (0.287) mm\n",
      "The mean heights of the module in position P2 are \u001b[32mGREEN\u001b[30m. \n",
      "The minimum difference in height of the module in position P2 is \u001b[31mRED\u001b[30m. \n",
      "The maximum difference in height of the module in position P2 is \u001b[31mRED\u001b[30m. \n",
      "\n",
      "The FINAL rating of the module in position P2 is \u001b[31mRED\u001b[30m.\n",
      "\n"
     ]
    }
   ],
   "source": [
    "%run utils/QualityControl.ipynb\n",
    "%autoreload 2\n",
    "\n",
    "if sensor.exists:\n",
    "    sensorP1 = QualityControl(fidDF, senDF, 'P1', False)\n",
    "    if len(senDF.pointsP1): sensorP1.runTransform()\n",
    "    if len(senDF.heightP1): sensorP1.runHeights()\n",
    "    sensorP1.rating()\n",
    "    print(sensorP1)\n",
    "\n",
    "    sensorP2 = QualityControl(fidDF, senDF, 'P2', False)\n",
    "    if len(senDF.pointsP2): sensorP2.runTransform()\n",
    "    if len(senDF.heightP2): sensorP2.runHeights()\n",
    "    sensorP2.rating()\n",
    "    print(sensorP2)\n",
    "    \n",
    "if pcb.exists:\n",
    "    pcbP1 = QualityControl(fidDF, pcbDF, 'P1', True)\n",
    "    if len(pcbDF.pointsP1): pcbP1.runTransform()\n",
    "    if len(pcbDF.heightP1): pcbP1.runHeights()\n",
    "    pcbP1.rating()\n",
    "    print(pcbP1)\n",
    "\n",
    "    pcbP2 = QualityControl(fidDF, pcbDF, 'P2', True)\n",
    "    if len(pcbDF.pointsP2): pcbP2.runTransform()\n",
    "    if len(pcbDF.heightP2): pcbP2.runHeights()\n",
    "    pcbP2.rating()\n",
    "    print(pcbP2)"
   ]
  },
  {
   "cell_type": "code",
   "execution_count": 5,
   "id": "fc917f93",
   "metadata": {},
   "outputs": [
    {
     "name": "stdout",
     "output_type": "stream",
     "text": [
      "Saving UPLOAD XML file to  /Users/Matthew/Documents/SchoolWork/physics/GradNotes/ParticlePhysics/PostdocResearch/HGC/EstToolsSUSY/FiducialQC/data/P2_and_P2_XYZ_Feb_10_P1_upload.xml\n",
      "Saving UPLOAD XML file to  /Users/Matthew/Documents/SchoolWork/physics/GradNotes/ParticlePhysics/PostdocResearch/HGC/EstToolsSUSY/FiducialQC/data/P2_and_P2_XYZ_Feb_10_P2_upload.xml\n"
     ]
    }
   ],
   "source": [
    "%run utils/CreateXML.ipynb\n",
    "%autoreload 2\n",
    "\n",
    "if sensor.exists:\n",
    "    if sensorP1.finalRating != 'NO INFO':\n",
    "        sensorP1XML = CreateXML(sensorP1, user, institution)\n",
    "        sensorP1XML.save(senDF.dir, senDF.name + '_P1.xml')\n",
    "\n",
    "    if sensorP2.finalRating != 'NO INFO':\n",
    "        sensorP2XML = CreateXML(sensorP2, user, institution)\n",
    "        sensorP2XML.save(senDF.dir, senDF.name + '_P2.xml')\n",
    "    \n",
    "if pcb.exists:\n",
    "    if pcbP1.finalRating != 'NO INFO':\n",
    "        pcbP1XML = CreateXML(pcbP1, user, institution)\n",
    "        pcbP1XML.save(pcbDF.dir, pcbDF.name + '_P1.xml')\n",
    "    \n",
    "    if pcbP2.finalRating != 'NO INFO':\n",
    "        pcbP2XML = CreateXML(pcbP2, user, institution)\n",
    "        pcbP2XML.save(pcbDF.dir, pcbDF.name + '_P2.xml')"
   ]
  },
  {
   "cell_type": "code",
   "execution_count": 6,
   "id": "2b57f28b",
   "metadata": {},
   "outputs": [
    {
     "ename": "AttributeError",
     "evalue": "'Series' object has no attribute 'chip'",
     "output_type": "error",
     "traceback": [
      "\u001b[0;31m---------------------------------------------------------------------------\u001b[0m",
      "\u001b[0;31mAttributeError\u001b[0m                            Traceback (most recent call last)",
      "\u001b[0;32m/var/folders/r6/6y5ry5195251q161q2_g7z8h0000gp/T/ipykernel_13624/2899295934.py\u001b[0m in \u001b[0;36m<module>\u001b[0;34m\u001b[0m\n\u001b[1;32m      5\u001b[0m         \u001b[0mlabel\u001b[0m \u001b[0;34m=\u001b[0m \u001b[0msenDF\u001b[0m\u001b[0;34m.\u001b[0m\u001b[0mname\u001b[0m \u001b[0;34m+\u001b[0m \u001b[0;34m' P1'\u001b[0m\u001b[0;34m\u001b[0m\u001b[0;34m\u001b[0m\u001b[0m\n\u001b[1;32m      6\u001b[0m         \u001b[0msenPlotP1\u001b[0m \u001b[0;34m=\u001b[0m \u001b[0mHeightPlotter\u001b[0m\u001b[0;34m(\u001b[0m\u001b[0msensorP1\u001b[0m\u001b[0;34m.\u001b[0m\u001b[0mhgts\u001b[0m\u001b[0;34m,\u001b[0m \u001b[0msensorP1\u001b[0m\u001b[0;34m.\u001b[0m\u001b[0mhXY\u001b[0m\u001b[0;34m,\u001b[0m \u001b[0msenDF\u001b[0m\u001b[0;34m.\u001b[0m\u001b[0mname\u001b[0m \u001b[0;34m+\u001b[0m \u001b[0;34m'_P1'\u001b[0m\u001b[0;34m,\u001b[0m \u001b[0msenDF\u001b[0m\u001b[0;34m.\u001b[0m\u001b[0mdir\u001b[0m \u001b[0;34m+\u001b[0m \u001b[0;34m'/'\u001b[0m\u001b[0;34m,\u001b[0m \u001b[0mlabel\u001b[0m\u001b[0;34m)\u001b[0m\u001b[0;34m\u001b[0m\u001b[0;34m\u001b[0m\u001b[0m\n\u001b[0;32m----> 7\u001b[0;31m         \u001b[0msenPlotP1\u001b[0m\u001b[0;34m.\u001b[0m\u001b[0mpadMapping\u001b[0m\u001b[0;34m(\u001b[0m\u001b[0;34m)\u001b[0m\u001b[0;34m\u001b[0m\u001b[0;34m\u001b[0m\u001b[0m\n\u001b[0m\u001b[1;32m      8\u001b[0m \u001b[0;34m\u001b[0m\u001b[0m\n\u001b[1;32m      9\u001b[0m     \u001b[0;32mif\u001b[0m \u001b[0mlen\u001b[0m\u001b[0;34m(\u001b[0m\u001b[0msensorP2\u001b[0m\u001b[0;34m.\u001b[0m\u001b[0mhgts\u001b[0m\u001b[0;34m)\u001b[0m\u001b[0;34m:\u001b[0m\u001b[0;34m\u001b[0m\u001b[0;34m\u001b[0m\u001b[0m\n",
      "\u001b[0;32m/var/folders/r6/6y5ry5195251q161q2_g7z8h0000gp/T/ipykernel_13624/385438386.py\u001b[0m in \u001b[0;36mpadMapping\u001b[0;34m(self)\u001b[0m\n\u001b[1;32m     75\u001b[0m         \u001b[0mdf\u001b[0m \u001b[0;34m=\u001b[0m \u001b[0mpd\u001b[0m\u001b[0;34m.\u001b[0m\u001b[0mDataFrame\u001b[0m\u001b[0;34m(\u001b[0m\u001b[0mdfOut\u001b[0m\u001b[0;34m)\u001b[0m\u001b[0;34m\u001b[0m\u001b[0;34m\u001b[0m\u001b[0m\n\u001b[1;32m     76\u001b[0m \u001b[0;34m\u001b[0m\u001b[0m\n\u001b[0;32m---> 77\u001b[0;31m         \u001b[0mmake_hexmap_plots_from_df\u001b[0m\u001b[0;34m(\u001b[0m\u001b[0mdf\u001b[0m\u001b[0;34m,\u001b[0m \u001b[0mself\u001b[0m\u001b[0;34m.\u001b[0m\u001b[0msaveDir\u001b[0m\u001b[0;34m,\u001b[0m \u001b[0mhb_type\u001b[0m \u001b[0;34m=\u001b[0m \u001b[0mself\u001b[0m\u001b[0;34m.\u001b[0m\u001b[0mhb_type\u001b[0m\u001b[0;34m,\u001b[0m \u001b[0mlabel\u001b[0m \u001b[0;34m=\u001b[0m \u001b[0mself\u001b[0m\u001b[0;34m.\u001b[0m\u001b[0mlabel\u001b[0m\u001b[0;34m)\u001b[0m\u001b[0;34m\u001b[0m\u001b[0;34m\u001b[0m\u001b[0m\n\u001b[0m",
      "\u001b[0;32m~/Documents/SchoolWork/physics/GradNotes/ParticlePhysics/PostdocResearch/HGC/EstToolsSUSY/FiducialQC/hexmap/plot_summary.py\u001b[0m in \u001b[0;36mmake_hexmap_plots_from_df\u001b[0;34m(df_data, figdir, hb_type, label)\u001b[0m\n\u001b[1;32m    438\u001b[0m \u001b[0;32mdef\u001b[0m \u001b[0mmake_hexmap_plots_from_df\u001b[0m\u001b[0;34m(\u001b[0m\u001b[0mdf_data\u001b[0m\u001b[0;34m,\u001b[0m \u001b[0mfigdir\u001b[0m \u001b[0;34m=\u001b[0m \u001b[0;34m\"./\"\u001b[0m\u001b[0;34m,\u001b[0m \u001b[0mhb_type\u001b[0m \u001b[0;34m=\u001b[0m \u001b[0;34m\"LD\"\u001b[0m\u001b[0;34m,\u001b[0m \u001b[0mlabel\u001b[0m \u001b[0;34m=\u001b[0m \u001b[0;32mNone\u001b[0m\u001b[0;34m)\u001b[0m\u001b[0;34m:\u001b[0m\u001b[0;34m\u001b[0m\u001b[0;34m\u001b[0m\u001b[0m\n\u001b[1;32m    439\u001b[0m     \u001b[0;31m# add mapping\u001b[0m\u001b[0;34m\u001b[0m\u001b[0;34m\u001b[0m\u001b[0m\n\u001b[0;32m--> 440\u001b[0;31m     \u001b[0mdf_data\u001b[0m \u001b[0;34m=\u001b[0m \u001b[0madd_mapping\u001b[0m\u001b[0;34m(\u001b[0m\u001b[0mdf_data\u001b[0m\u001b[0;34m,\u001b[0m \u001b[0mhb_type\u001b[0m \u001b[0;34m=\u001b[0m \u001b[0mhb_type\u001b[0m\u001b[0;34m)\u001b[0m\u001b[0;34m\u001b[0m\u001b[0;34m\u001b[0m\u001b[0m\n\u001b[0m\u001b[1;32m    441\u001b[0m     \u001b[0;31m# do plots\u001b[0m\u001b[0;34m\u001b[0m\u001b[0;34m\u001b[0m\u001b[0m\n\u001b[1;32m    442\u001b[0m     \u001b[0mplot_hexmaps\u001b[0m\u001b[0;34m(\u001b[0m\u001b[0mdf_data\u001b[0m\u001b[0;34m,\u001b[0m \u001b[0mfigdir\u001b[0m\u001b[0;34m,\u001b[0m \u001b[0mhb_type\u001b[0m\u001b[0;34m,\u001b[0m \u001b[0mlabel\u001b[0m\u001b[0;34m)\u001b[0m\u001b[0;34m\u001b[0m\u001b[0;34m\u001b[0m\u001b[0m\n",
      "\u001b[0;32m~/Documents/SchoolWork/physics/GradNotes/ParticlePhysics/PostdocResearch/HGC/EstToolsSUSY/FiducialQC/hexmap/plot_summary.py\u001b[0m in \u001b[0;36madd_mapping\u001b[0;34m(df, hb_type)\u001b[0m\n\u001b[1;32m     61\u001b[0m \u001b[0;34m\u001b[0m\u001b[0m\n\u001b[1;32m     62\u001b[0m     \u001b[0;31m# add mapping to the data dataFrames\u001b[0m\u001b[0;34m\u001b[0m\u001b[0;34m\u001b[0m\u001b[0m\n\u001b[0;32m---> 63\u001b[0;31m     \u001b[0mdf_data\u001b[0m\u001b[0;34m[\u001b[0m\u001b[0;34m\"pad\"\u001b[0m\u001b[0;34m]\u001b[0m \u001b[0;34m=\u001b[0m \u001b[0mdf_data\u001b[0m\u001b[0;34m.\u001b[0m\u001b[0mapply\u001b[0m\u001b[0;34m(\u001b[0m\u001b[0;32mlambda\u001b[0m \u001b[0mx\u001b[0m\u001b[0;34m:\u001b[0m \u001b[0mget_pad_id\u001b[0m\u001b[0;34m(\u001b[0m\u001b[0md_ch_map\u001b[0m\u001b[0;34m,\u001b[0m \u001b[0mx\u001b[0m\u001b[0;34m.\u001b[0m\u001b[0mchip\u001b[0m\u001b[0;34m,\u001b[0m \u001b[0mx\u001b[0m\u001b[0;34m.\u001b[0m\u001b[0mchannel\u001b[0m\u001b[0;34m,\u001b[0m \u001b[0mx\u001b[0m\u001b[0;34m.\u001b[0m\u001b[0mchanneltype\u001b[0m\u001b[0;34m)\u001b[0m\u001b[0;34m,\u001b[0m \u001b[0maxis\u001b[0m \u001b[0;34m=\u001b[0m \u001b[0;36m1\u001b[0m\u001b[0;34m)\u001b[0m\u001b[0;34m\u001b[0m\u001b[0;34m\u001b[0m\u001b[0m\n\u001b[0m\u001b[1;32m     64\u001b[0m     \u001b[0mdf_data\u001b[0m\u001b[0;34m[\u001b[0m\u001b[0;34m\"x\"\u001b[0m\u001b[0;34m]\u001b[0m \u001b[0;34m=\u001b[0m \u001b[0mdf_data\u001b[0m\u001b[0;34m[\u001b[0m\u001b[0;34m\"pad\"\u001b[0m\u001b[0;34m]\u001b[0m\u001b[0;34m.\u001b[0m\u001b[0mmap\u001b[0m\u001b[0;34m(\u001b[0m\u001b[0md_pad_map\u001b[0m\u001b[0;34m[\u001b[0m\u001b[0;34m\"xposition\"\u001b[0m\u001b[0;34m]\u001b[0m\u001b[0;34m)\u001b[0m\u001b[0;34m\u001b[0m\u001b[0;34m\u001b[0m\u001b[0m\n\u001b[1;32m     65\u001b[0m     \u001b[0mdf_data\u001b[0m\u001b[0;34m[\u001b[0m\u001b[0;34m\"y\"\u001b[0m\u001b[0;34m]\u001b[0m \u001b[0;34m=\u001b[0m \u001b[0mdf_data\u001b[0m\u001b[0;34m[\u001b[0m\u001b[0;34m\"pad\"\u001b[0m\u001b[0;34m]\u001b[0m\u001b[0;34m.\u001b[0m\u001b[0mmap\u001b[0m\u001b[0;34m(\u001b[0m\u001b[0md_pad_map\u001b[0m\u001b[0;34m[\u001b[0m\u001b[0;34m\"yposition\"\u001b[0m\u001b[0;34m]\u001b[0m\u001b[0;34m)\u001b[0m\u001b[0;34m\u001b[0m\u001b[0;34m\u001b[0m\u001b[0m\n",
      "\u001b[0;32m/usr/local/lib/python3.9/site-packages/pandas/core/frame.py\u001b[0m in \u001b[0;36mapply\u001b[0;34m(self, func, axis, raw, result_type, args, **kwargs)\u001b[0m\n\u001b[1;32m   8738\u001b[0m             \u001b[0mkwargs\u001b[0m\u001b[0;34m=\u001b[0m\u001b[0mkwargs\u001b[0m\u001b[0;34m,\u001b[0m\u001b[0;34m\u001b[0m\u001b[0;34m\u001b[0m\u001b[0m\n\u001b[1;32m   8739\u001b[0m         )\n\u001b[0;32m-> 8740\u001b[0;31m         \u001b[0;32mreturn\u001b[0m \u001b[0mop\u001b[0m\u001b[0;34m.\u001b[0m\u001b[0mapply\u001b[0m\u001b[0;34m(\u001b[0m\u001b[0;34m)\u001b[0m\u001b[0;34m\u001b[0m\u001b[0;34m\u001b[0m\u001b[0m\n\u001b[0m\u001b[1;32m   8741\u001b[0m \u001b[0;34m\u001b[0m\u001b[0m\n\u001b[1;32m   8742\u001b[0m     def applymap(\n",
      "\u001b[0;32m/usr/local/lib/python3.9/site-packages/pandas/core/apply.py\u001b[0m in \u001b[0;36mapply\u001b[0;34m(self)\u001b[0m\n\u001b[1;32m    686\u001b[0m             \u001b[0;32mreturn\u001b[0m \u001b[0mself\u001b[0m\u001b[0;34m.\u001b[0m\u001b[0mapply_raw\u001b[0m\u001b[0;34m(\u001b[0m\u001b[0;34m)\u001b[0m\u001b[0;34m\u001b[0m\u001b[0;34m\u001b[0m\u001b[0m\n\u001b[1;32m    687\u001b[0m \u001b[0;34m\u001b[0m\u001b[0m\n\u001b[0;32m--> 688\u001b[0;31m         \u001b[0;32mreturn\u001b[0m \u001b[0mself\u001b[0m\u001b[0;34m.\u001b[0m\u001b[0mapply_standard\u001b[0m\u001b[0;34m(\u001b[0m\u001b[0;34m)\u001b[0m\u001b[0;34m\u001b[0m\u001b[0;34m\u001b[0m\u001b[0m\n\u001b[0m\u001b[1;32m    689\u001b[0m \u001b[0;34m\u001b[0m\u001b[0m\n\u001b[1;32m    690\u001b[0m     \u001b[0;32mdef\u001b[0m \u001b[0magg\u001b[0m\u001b[0;34m(\u001b[0m\u001b[0mself\u001b[0m\u001b[0;34m)\u001b[0m\u001b[0;34m:\u001b[0m\u001b[0;34m\u001b[0m\u001b[0;34m\u001b[0m\u001b[0m\n",
      "\u001b[0;32m/usr/local/lib/python3.9/site-packages/pandas/core/apply.py\u001b[0m in \u001b[0;36mapply_standard\u001b[0;34m(self)\u001b[0m\n\u001b[1;32m    810\u001b[0m \u001b[0;34m\u001b[0m\u001b[0m\n\u001b[1;32m    811\u001b[0m     \u001b[0;32mdef\u001b[0m \u001b[0mapply_standard\u001b[0m\u001b[0;34m(\u001b[0m\u001b[0mself\u001b[0m\u001b[0;34m)\u001b[0m\u001b[0;34m:\u001b[0m\u001b[0;34m\u001b[0m\u001b[0;34m\u001b[0m\u001b[0m\n\u001b[0;32m--> 812\u001b[0;31m         \u001b[0mresults\u001b[0m\u001b[0;34m,\u001b[0m \u001b[0mres_index\u001b[0m \u001b[0;34m=\u001b[0m \u001b[0mself\u001b[0m\u001b[0;34m.\u001b[0m\u001b[0mapply_series_generator\u001b[0m\u001b[0;34m(\u001b[0m\u001b[0;34m)\u001b[0m\u001b[0;34m\u001b[0m\u001b[0;34m\u001b[0m\u001b[0m\n\u001b[0m\u001b[1;32m    813\u001b[0m \u001b[0;34m\u001b[0m\u001b[0m\n\u001b[1;32m    814\u001b[0m         \u001b[0;31m# wrap results\u001b[0m\u001b[0;34m\u001b[0m\u001b[0;34m\u001b[0m\u001b[0m\n",
      "\u001b[0;32m/usr/local/lib/python3.9/site-packages/pandas/core/apply.py\u001b[0m in \u001b[0;36mapply_series_generator\u001b[0;34m(self)\u001b[0m\n\u001b[1;32m    826\u001b[0m             \u001b[0;32mfor\u001b[0m \u001b[0mi\u001b[0m\u001b[0;34m,\u001b[0m \u001b[0mv\u001b[0m \u001b[0;32min\u001b[0m \u001b[0menumerate\u001b[0m\u001b[0;34m(\u001b[0m\u001b[0mseries_gen\u001b[0m\u001b[0;34m)\u001b[0m\u001b[0;34m:\u001b[0m\u001b[0;34m\u001b[0m\u001b[0;34m\u001b[0m\u001b[0m\n\u001b[1;32m    827\u001b[0m                 \u001b[0;31m# ignore SettingWithCopy here in case the user mutates\u001b[0m\u001b[0;34m\u001b[0m\u001b[0;34m\u001b[0m\u001b[0m\n\u001b[0;32m--> 828\u001b[0;31m                 \u001b[0mresults\u001b[0m\u001b[0;34m[\u001b[0m\u001b[0mi\u001b[0m\u001b[0;34m]\u001b[0m \u001b[0;34m=\u001b[0m \u001b[0mself\u001b[0m\u001b[0;34m.\u001b[0m\u001b[0mf\u001b[0m\u001b[0;34m(\u001b[0m\u001b[0mv\u001b[0m\u001b[0;34m)\u001b[0m\u001b[0;34m\u001b[0m\u001b[0;34m\u001b[0m\u001b[0m\n\u001b[0m\u001b[1;32m    829\u001b[0m                 \u001b[0;32mif\u001b[0m \u001b[0misinstance\u001b[0m\u001b[0;34m(\u001b[0m\u001b[0mresults\u001b[0m\u001b[0;34m[\u001b[0m\u001b[0mi\u001b[0m\u001b[0;34m]\u001b[0m\u001b[0;34m,\u001b[0m \u001b[0mABCSeries\u001b[0m\u001b[0;34m)\u001b[0m\u001b[0;34m:\u001b[0m\u001b[0;34m\u001b[0m\u001b[0;34m\u001b[0m\u001b[0m\n\u001b[1;32m    830\u001b[0m                     \u001b[0;31m# If we have a view on v, we need to make a copy because\u001b[0m\u001b[0;34m\u001b[0m\u001b[0;34m\u001b[0m\u001b[0m\n",
      "\u001b[0;32m~/Documents/SchoolWork/physics/GradNotes/ParticlePhysics/PostdocResearch/HGC/EstToolsSUSY/FiducialQC/hexmap/plot_summary.py\u001b[0m in \u001b[0;36m<lambda>\u001b[0;34m(x)\u001b[0m\n\u001b[1;32m     61\u001b[0m \u001b[0;34m\u001b[0m\u001b[0m\n\u001b[1;32m     62\u001b[0m     \u001b[0;31m# add mapping to the data dataFrames\u001b[0m\u001b[0;34m\u001b[0m\u001b[0;34m\u001b[0m\u001b[0m\n\u001b[0;32m---> 63\u001b[0;31m     \u001b[0mdf_data\u001b[0m\u001b[0;34m[\u001b[0m\u001b[0;34m\"pad\"\u001b[0m\u001b[0;34m]\u001b[0m \u001b[0;34m=\u001b[0m \u001b[0mdf_data\u001b[0m\u001b[0;34m.\u001b[0m\u001b[0mapply\u001b[0m\u001b[0;34m(\u001b[0m\u001b[0;32mlambda\u001b[0m \u001b[0mx\u001b[0m\u001b[0;34m:\u001b[0m \u001b[0mget_pad_id\u001b[0m\u001b[0;34m(\u001b[0m\u001b[0md_ch_map\u001b[0m\u001b[0;34m,\u001b[0m \u001b[0mx\u001b[0m\u001b[0;34m.\u001b[0m\u001b[0mchip\u001b[0m\u001b[0;34m,\u001b[0m \u001b[0mx\u001b[0m\u001b[0;34m.\u001b[0m\u001b[0mchannel\u001b[0m\u001b[0;34m,\u001b[0m \u001b[0mx\u001b[0m\u001b[0;34m.\u001b[0m\u001b[0mchanneltype\u001b[0m\u001b[0;34m)\u001b[0m\u001b[0;34m,\u001b[0m \u001b[0maxis\u001b[0m \u001b[0;34m=\u001b[0m \u001b[0;36m1\u001b[0m\u001b[0;34m)\u001b[0m\u001b[0;34m\u001b[0m\u001b[0;34m\u001b[0m\u001b[0m\n\u001b[0m\u001b[1;32m     64\u001b[0m     \u001b[0mdf_data\u001b[0m\u001b[0;34m[\u001b[0m\u001b[0;34m\"x\"\u001b[0m\u001b[0;34m]\u001b[0m \u001b[0;34m=\u001b[0m \u001b[0mdf_data\u001b[0m\u001b[0;34m[\u001b[0m\u001b[0;34m\"pad\"\u001b[0m\u001b[0;34m]\u001b[0m\u001b[0;34m.\u001b[0m\u001b[0mmap\u001b[0m\u001b[0;34m(\u001b[0m\u001b[0md_pad_map\u001b[0m\u001b[0;34m[\u001b[0m\u001b[0;34m\"xposition\"\u001b[0m\u001b[0;34m]\u001b[0m\u001b[0;34m)\u001b[0m\u001b[0;34m\u001b[0m\u001b[0;34m\u001b[0m\u001b[0m\n\u001b[1;32m     65\u001b[0m     \u001b[0mdf_data\u001b[0m\u001b[0;34m[\u001b[0m\u001b[0;34m\"y\"\u001b[0m\u001b[0;34m]\u001b[0m \u001b[0;34m=\u001b[0m \u001b[0mdf_data\u001b[0m\u001b[0;34m[\u001b[0m\u001b[0;34m\"pad\"\u001b[0m\u001b[0;34m]\u001b[0m\u001b[0;34m.\u001b[0m\u001b[0mmap\u001b[0m\u001b[0;34m(\u001b[0m\u001b[0md_pad_map\u001b[0m\u001b[0;34m[\u001b[0m\u001b[0;34m\"yposition\"\u001b[0m\u001b[0;34m]\u001b[0m\u001b[0;34m)\u001b[0m\u001b[0;34m\u001b[0m\u001b[0;34m\u001b[0m\u001b[0m\n",
      "\u001b[0;32m/usr/local/lib/python3.9/site-packages/pandas/core/generic.py\u001b[0m in \u001b[0;36m__getattr__\u001b[0;34m(self, name)\u001b[0m\n\u001b[1;32m   5485\u001b[0m         ):\n\u001b[1;32m   5486\u001b[0m             \u001b[0;32mreturn\u001b[0m \u001b[0mself\u001b[0m\u001b[0;34m[\u001b[0m\u001b[0mname\u001b[0m\u001b[0;34m]\u001b[0m\u001b[0;34m\u001b[0m\u001b[0;34m\u001b[0m\u001b[0m\n\u001b[0;32m-> 5487\u001b[0;31m         \u001b[0;32mreturn\u001b[0m \u001b[0mobject\u001b[0m\u001b[0;34m.\u001b[0m\u001b[0m__getattribute__\u001b[0m\u001b[0;34m(\u001b[0m\u001b[0mself\u001b[0m\u001b[0;34m,\u001b[0m \u001b[0mname\u001b[0m\u001b[0;34m)\u001b[0m\u001b[0;34m\u001b[0m\u001b[0;34m\u001b[0m\u001b[0m\n\u001b[0m\u001b[1;32m   5488\u001b[0m \u001b[0;34m\u001b[0m\u001b[0m\n\u001b[1;32m   5489\u001b[0m     \u001b[0;32mdef\u001b[0m \u001b[0m__setattr__\u001b[0m\u001b[0;34m(\u001b[0m\u001b[0mself\u001b[0m\u001b[0;34m,\u001b[0m \u001b[0mname\u001b[0m\u001b[0;34m:\u001b[0m \u001b[0mstr\u001b[0m\u001b[0;34m,\u001b[0m \u001b[0mvalue\u001b[0m\u001b[0;34m)\u001b[0m \u001b[0;34m->\u001b[0m \u001b[0;32mNone\u001b[0m\u001b[0;34m:\u001b[0m\u001b[0;34m\u001b[0m\u001b[0;34m\u001b[0m\u001b[0m\n",
      "\u001b[0;31mAttributeError\u001b[0m: 'Series' object has no attribute 'chip'"
     ]
    }
   ],
   "source": [
    "%run utils/HeightPlotter.ipynb\n",
    "%autoreload 2\n",
    "if sensor.exists:\n",
    "    if len(sensorP1.hgts):\n",
    "        label = senDF.name + ' P1'\n",
    "        senPlotP1 = HeightPlotter(sensorP1.hgts, sensorP1.hXY, senDF.name + '_P1', senDF.dir + '/', label)\n",
    "        senPlotP1.padMapping()\n",
    "    \n",
    "    if len(sensorP2.hgts):\n",
    "        label = senDF.name + ' P2'\n",
    "        senPlotP2 = HeightPlotter(sensorP2.hgts, sensorP2.hXY, senDF.name + '_P2', senDF.dir + '/', label)\n",
    "        senPlotP2.padMapping()\n",
    "\n",
    "if pcb.exists:\n",
    "    if len(pcbP1.hgts):\n",
    "        label = pcbDF.name + ' P1'\n",
    "        pcbPlotP1 = HeightPlotter(pcbP1.hgts, pcbP1.hXY, pcbDF.name + '_P1', pcbDF.dir + '/', label)\n",
    "        pcbPlotP1.padMapping()\n",
    "        \n",
    "    if len(pcbP2.hgts):\n",
    "        label = pcbDF.name + ' P2'\n",
    "        pcbPlotP2 = HeightPlotter(pcbP2.hgts, pcbP2.hXY, pcbDF.name + '_P2', pcbDF.dir + '/', label)\n",
    "        pcbPlotP2.padMapping()"
   ]
  },
  {
   "cell_type": "code",
   "execution_count": null,
   "id": "960e72ac",
   "metadata": {},
   "outputs": [],
   "source": []
  }
 ],
 "metadata": {
  "kernelspec": {
   "display_name": "Python 3 (ipykernel)",
   "language": "python",
   "name": "python3"
  },
  "language_info": {
   "codemirror_mode": {
    "name": "ipython",
    "version": 3
   },
   "file_extension": ".py",
   "mimetype": "text/x-python",
   "name": "python",
   "nbconvert_exporter": "python",
   "pygments_lexer": "ipython3",
   "version": "3.9.9"
  }
 },
 "nbformat": 4,
 "nbformat_minor": 5
}
